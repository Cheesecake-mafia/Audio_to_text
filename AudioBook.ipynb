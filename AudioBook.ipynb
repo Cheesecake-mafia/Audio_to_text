{
 "cells": [
  {
   "cell_type": "code",
   "execution_count": 3,
   "metadata": {},
   "outputs": [],
   "source": [
    "import PyPDF2\n",
    "from gtts import gTTS\n",
    "import os\n",
    "import pyttsx3 \n",
    "\n",
    "def tts(filePath,speak=False):\n",
    "    book = open(filePath, 'rb')\n",
    "    pdfReader = PyPDF2.PdfFileReader(book)\n",
    "    pages = pdfReader.numPages\n",
    "    textToBeRead = ' '\n",
    "    \n",
    "    filename = os.path.split(filePath)[-1]\n",
    "    \n",
    "    pageObj = pdfReader.getPage(0)\n",
    "    \n",
    "    if speak == True:\n",
    "        speaker = pyttsx3.init()\n",
    "        for num in range(pages):\n",
    "            page = pdfReader.getPage(num)\n",
    "            text = page.extractText()\n",
    "            speaker.say(text)\n",
    "            speaker.runAndWait()\n",
    "    \n",
    "    for page in range(pages):\n",
    "        pageObj = pdfReader.getPage(page)\n",
    "        textToBeRead = textToBeRead + pageObj.extractText()\n",
    "    \n",
    "    \n",
    "    \n",
    "    book.close()\n",
    "    language = 'en'\n",
    "    savename = filename.split(\".\")[0]\n",
    "    myobj = gTTS(text=textToBeRead, lang=language, slow=False)\n",
    "    myobj.save(savename + \".mp3\")"
   ]
  },
  {
   "cell_type": "code",
   "execution_count": null,
   "metadata": {},
   "outputs": [],
   "source": []
  }
 ],
 "metadata": {
  "kernelspec": {
   "display_name": "Python 3.8.5 64-bit (conda)",
   "language": "python",
   "name": "python385jvsc74a57bd0183bbf6827d058c2a2fb0f4acdc0420849dda2b4380af0e437e38c64d798d8b7"
  },
  "language_info": {
   "codemirror_mode": {
    "name": "ipython",
    "version": 3
   },
   "file_extension": ".py",
   "mimetype": "text/x-python",
   "name": "python",
   "nbconvert_exporter": "python",
   "pygments_lexer": "ipython3",
   "version": "3.8.5"
  },
  "latex_envs": {
   "LaTeX_envs_menu_present": true,
   "autoclose": false,
   "autocomplete": true,
   "bibliofile": "biblio.bib",
   "cite_by": "apalike",
   "current_citInitial": 1,
   "eqLabelWithNumbers": true,
   "eqNumInitial": 1,
   "hotkeys": {
    "equation": "Ctrl-E",
    "itemize": "Ctrl-I"
   },
   "labels_anchors": false,
   "latex_user_defs": false,
   "report_style_numbering": false,
   "user_envs_cfg": false
  },
  "toc": {
   "base_numbering": 1,
   "nav_menu": {},
   "number_sections": true,
   "sideBar": true,
   "skip_h1_title": false,
   "title_cell": "Table of Contents",
   "title_sidebar": "Contents",
   "toc_cell": false,
   "toc_position": {},
   "toc_section_display": true,
   "toc_window_display": false
  },
  "varInspector": {
   "cols": {
    "lenName": 16,
    "lenType": 16,
    "lenVar": 40
   },
   "kernels_config": {
    "python": {
     "delete_cmd_postfix": "",
     "delete_cmd_prefix": "del ",
     "library": "var_list.py",
     "varRefreshCmd": "print(var_dic_list())"
    },
    "r": {
     "delete_cmd_postfix": ") ",
     "delete_cmd_prefix": "rm(",
     "library": "var_list.r",
     "varRefreshCmd": "cat(var_dic_list()) "
    }
   },
   "types_to_exclude": [
    "module",
    "function",
    "builtin_function_or_method",
    "instance",
    "_Feature"
   ],
   "window_display": false
  }
 },
 "nbformat": 4,
 "nbformat_minor": 4
}
